{
  "nbformat": 4,
  "nbformat_minor": 0,
  "metadata": {
    "colab": {
      "provenance": []
    },
    "kernelspec": {
      "name": "python3",
      "display_name": "Python 3"
    }
  },
  "cells": [
    {
      "cell_type": "markdown",
      "source": [
        "# Basic text operations"
      ],
      "metadata": {
        "id": "-1DsQ0rEuSzn"
      }
    },
    {
      "cell_type": "markdown",
      "metadata": {
        "id": "Nn885eRyu7ND"
      },
      "source": [
        "### Easy string manipulation"
      ]
    },
    {
      "cell_type": "markdown",
      "source": [
        "To compare strings we use =="
      ],
      "metadata": {
        "id": "w9B9iNvnXX1P"
      }
    },
    {
      "cell_type": "code",
      "metadata": {
        "id": "7CPBUMfm7Ljn"
      },
      "source": [
        "x = 'a string'\n",
        "y = \"a string\"\n",
        "if x == y:\n",
        "    print(\"they are the same\")\n"
      ],
      "execution_count": null,
      "outputs": []
    },
    {
      "cell_type": "markdown",
      "source": [
        "**Is** does not work:"
      ],
      "metadata": {
        "id": "T1Nyl_DIW-sV"
      }
    },
    {
      "cell_type": "code",
      "source": [
        "x = 'a string'\n",
        "y = \"a string\"\n",
        "if x is y:\n",
        "    print(\"they are the same\")"
      ],
      "metadata": {
        "id": "AWXAAM8pW_h1"
      },
      "execution_count": null,
      "outputs": []
    },
    {
      "cell_type": "code",
      "metadata": {
        "id": "Ani3HhQk7LkF"
      },
      "source": [
        "fox = \"tHe qUICk bROWn fOx.\""
      ],
      "execution_count": null,
      "outputs": []
    },
    {
      "cell_type": "markdown",
      "metadata": {
        "id": "Lr1xNTks7LkN"
      },
      "source": [
        "To convert the entire string into upper-case or lower-case, you can use the ``upper()`` or ``lower()`` methods respectively:"
      ]
    },
    {
      "cell_type": "code",
      "metadata": {
        "id": "hLEjP_-r7LkP"
      },
      "source": [
        "fox.upper()"
      ],
      "execution_count": null,
      "outputs": []
    },
    {
      "cell_type": "code",
      "metadata": {
        "id": "J_sWSEtc7LkV"
      },
      "source": [
        "fox.lower()"
      ],
      "execution_count": null,
      "outputs": []
    },
    {
      "cell_type": "markdown",
      "metadata": {
        "id": "gDJiQgTK7LkZ"
      },
      "source": [
        "A common formatting need is to capitalize just the first letter of each word, or perhaps the first letter of each sentence.\n",
        "This can be done with the ``title()`` and ``capitalize()`` methods:"
      ]
    },
    {
      "cell_type": "code",
      "metadata": {
        "id": "-VFGL3Hr7Lka"
      },
      "source": [
        "fox.title()"
      ],
      "execution_count": null,
      "outputs": []
    },
    {
      "cell_type": "code",
      "metadata": {
        "id": "cV3ghJce7Lkr"
      },
      "source": [
        "fox.capitalize()"
      ],
      "execution_count": null,
      "outputs": []
    },
    {
      "cell_type": "markdown",
      "metadata": {
        "id": "2CjcAH_47Lkw"
      },
      "source": [
        "The cases can be swapped using the ``swapcase()`` method:"
      ]
    },
    {
      "cell_type": "code",
      "metadata": {
        "id": "9VqNWnnG7Lkx"
      },
      "source": [
        "fox.swapcase()"
      ],
      "execution_count": null,
      "outputs": []
    },
    {
      "cell_type": "code",
      "metadata": {
        "id": "VXnRg_RV7Lk8"
      },
      "source": [
        "line = '         this is the content         '\n",
        "line.strip()"
      ],
      "execution_count": null,
      "outputs": []
    },
    {
      "cell_type": "markdown",
      "metadata": {
        "id": "JGI2dfcr7LlA"
      },
      "source": [
        "To remove just space to the right or left, use ``rstrip()`` or ``lstrip()`` respectively:"
      ]
    },
    {
      "cell_type": "code",
      "metadata": {
        "id": "wNtxgkpd7LlC"
      },
      "source": [
        "line.rstrip()"
      ],
      "execution_count": null,
      "outputs": []
    },
    {
      "cell_type": "code",
      "metadata": {
        "id": "mqAp9fhT7LlH"
      },
      "source": [
        "line.lstrip()"
      ],
      "execution_count": null,
      "outputs": []
    },
    {
      "cell_type": "markdown",
      "metadata": {
        "id": "0Y1XeOHR7LlK"
      },
      "source": [
        "To remove characters other than spaces, you can pass the desired character to the ``strip()`` method:"
      ]
    },
    {
      "cell_type": "code",
      "metadata": {
        "id": "4ZoSwbiO7LlL"
      },
      "source": [
        "num = \"000000000000435\"\n",
        "num.strip('0')"
      ],
      "execution_count": null,
      "outputs": []
    },
    {
      "cell_type": "code",
      "metadata": {
        "id": "fDyZR0R97LlX"
      },
      "source": [
        "line = 'the quick brown fox jumped over a lazy dog'\n",
        "line.find('fox')"
      ],
      "execution_count": null,
      "outputs": []
    },
    {
      "cell_type": "code",
      "metadata": {
        "id": "BIArRU7l7Llh"
      },
      "source": [
        "line.index('fox')"
      ],
      "execution_count": null,
      "outputs": []
    },
    {
      "cell_type": "code",
      "metadata": {
        "id": "D58dXOqH7Llb"
      },
      "source": [
        "line[16:21]"
      ],
      "execution_count": null,
      "outputs": []
    },
    {
      "cell_type": "markdown",
      "metadata": {
        "id": "h85MmPIU7Llm"
      },
      "source": [
        "The only difference between ``find()`` and ``index()`` is their behavior when the search string is not found; ``find()`` returns ``-1``, while ``index()`` raises a ``ValueError``:"
      ]
    },
    {
      "cell_type": "code",
      "metadata": {
        "id": "_1KC6QOU7Lln"
      },
      "source": [
        "line.find('bear')"
      ],
      "execution_count": null,
      "outputs": []
    },
    {
      "cell_type": "code",
      "metadata": {
        "id": "L-3u--pe7Lls"
      },
      "source": [
        "line.index('bear')"
      ],
      "execution_count": null,
      "outputs": []
    },
    {
      "cell_type": "code",
      "metadata": {
        "id": "broQs8Q27Ll-"
      },
      "source": [
        "line.partition('fox')"
      ],
      "execution_count": null,
      "outputs": []
    },
    {
      "cell_type": "markdown",
      "metadata": {
        "id": "52RL7jri7Ll_"
      },
      "source": [
        "The ``rpartition()`` method is similar, but searches from the right of the string.\n",
        "\n",
        "The ``split()`` method is perhaps more useful; it finds *all* instances of the split-point and returns the substrings in between.\n",
        "The default is to split on any whitespace, returning a list of the individual words in a string:"
      ]
    },
    {
      "cell_type": "code",
      "metadata": {
        "id": "XgNMTET57LmA"
      },
      "source": [
        "line_list = line.split()\n",
        "print(line_list)"
      ],
      "execution_count": null,
      "outputs": []
    },
    {
      "cell_type": "code",
      "metadata": {
        "id": "UL5ebfOXzAN-"
      },
      "source": [
        "print(line_list[1])"
      ],
      "execution_count": null,
      "outputs": []
    },
    {
      "cell_type": "markdown",
      "metadata": {
        "id": "oG-08k1P7LmC"
      },
      "source": [
        "A related method is ``splitlines()``, which splits on newline characters.\n",
        "Let's do this with a Haiku, popularly attributed to the 17th-century poet Matsuo Bashō:"
      ]
    },
    {
      "cell_type": "code",
      "metadata": {
        "id": "Xhoq3dov7LmD"
      },
      "source": [
        "haiku = \"\"\"matsushima-ya\n",
        "aah matsushima-ya\n",
        "matsushima-ya\"\"\"\n",
        "\n",
        "haiku.splitlines()"
      ],
      "execution_count": null,
      "outputs": []
    },
    {
      "cell_type": "markdown",
      "metadata": {
        "id": "nvAwkkOY7LmF"
      },
      "source": [
        "Note that if you would like to undo a ``split()``, you can use the ``join()`` method, which returns a string built from a splitpoint and an iterable:"
      ]
    },
    {
      "cell_type": "code",
      "metadata": {
        "id": "x6dnl1We7LmG"
      },
      "source": [
        "'--'.join(['1', '2', '3'])"
      ],
      "execution_count": null,
      "outputs": []
    },
    {
      "cell_type": "markdown",
      "metadata": {
        "id": "1AV-VUtK7LmI"
      },
      "source": [
        "A common pattern is to use the special character ``\"\\n\"`` (newline) to join together lines that have been previously split, and recover the input:"
      ]
    },
    {
      "cell_type": "code",
      "metadata": {
        "id": "iPGNvfi17LmI"
      },
      "source": [
        "print(\"\\n\".join(['matsushima-ya', 'aah matsushima-ya', 'matsushima-ya']))"
      ],
      "execution_count": null,
      "outputs": []
    },
    {
      "cell_type": "markdown",
      "source": [
        "### Formatting strings"
      ],
      "metadata": {
        "id": "0NOSLMgKdhIk"
      }
    },
    {
      "cell_type": "code",
      "metadata": {
        "id": "ATNMLZ1c7LmK"
      },
      "source": [
        "pi = 3.14159\n",
        "str(pi)"
      ],
      "execution_count": null,
      "outputs": []
    },
    {
      "cell_type": "code",
      "metadata": {
        "id": "n9XHEO0V7LmN"
      },
      "source": [
        "print( \"The value of pi is \" + str(pi))"
      ],
      "execution_count": null,
      "outputs": []
    },
    {
      "cell_type": "markdown",
      "metadata": {
        "id": "gLxjpyku7LmP"
      },
      "source": [
        "A more flexible way to do this is to use *format strings*, which are strings with special markers (noted by curly braces) into which string-formatted values will be inserted.\n",
        "Here is a basic example:"
      ]
    },
    {
      "cell_type": "code",
      "metadata": {
        "id": "TnpyntFp7LmQ"
      },
      "source": [
        "\"The value of pi is {}\".format(pi)"
      ],
      "execution_count": null,
      "outputs": []
    },
    {
      "cell_type": "markdown",
      "source": [
        "But we can use easier solution (with cutting two last digist):"
      ],
      "metadata": {
        "id": "BPqIKQ9AdYpa"
      }
    },
    {
      "cell_type": "code",
      "metadata": {
        "id": "IAXuKoSj7LmL"
      },
      "source": [
        "print (f\"The value of pi is {pi:0.2f}\")"
      ],
      "execution_count": null,
      "outputs": []
    },
    {
      "cell_type": "markdown",
      "metadata": {
        "id": "lxow04Rc7LmN"
      },
      "source": [
        "Pi is a float number so it must be transform to sting."
      ]
    },
    {
      "cell_type": "markdown",
      "metadata": {
        "id": "fwhJjvfvvC_P"
      },
      "source": [
        "### Easy regex manipulation"
      ]
    },
    {
      "cell_type": "code",
      "metadata": {
        "id": "FgEQCSC5vQki"
      },
      "source": [
        "import re"
      ],
      "execution_count": null,
      "outputs": []
    },
    {
      "cell_type": "code",
      "metadata": {
        "id": "7xYEVDt77Lmb"
      },
      "source": [
        "line = 'the quick brown fox jumped over a lazy dog'"
      ],
      "execution_count": null,
      "outputs": []
    },
    {
      "cell_type": "markdown",
      "metadata": {
        "id": "2ARgmkQP7Lmd"
      },
      "source": [
        "With this, we can see that the ``regex.search()`` method operates a lot like ``str.index()`` or ``str.find()``:"
      ]
    },
    {
      "cell_type": "code",
      "metadata": {
        "id": "mAPbNKrk7Lmd"
      },
      "source": [
        "line.index('fox')"
      ],
      "execution_count": null,
      "outputs": []
    },
    {
      "cell_type": "code",
      "metadata": {
        "id": "PrQPx1bw7Lme"
      },
      "source": [
        "regex = re.compile('fox')\n",
        "match = regex.search(line)\n",
        "match.start()"
      ],
      "execution_count": null,
      "outputs": []
    },
    {
      "cell_type": "markdown",
      "metadata": {
        "id": "4NlxHgi57Lmg"
      },
      "source": [
        "Similarly, the ``regex.sub()`` method operates much like ``str.replace()``:"
      ]
    },
    {
      "cell_type": "code",
      "metadata": {
        "id": "Gx3ieKh47Lmg"
      },
      "source": [
        "line.replace('fox', 'BEAR')"
      ],
      "execution_count": null,
      "outputs": []
    },
    {
      "cell_type": "code",
      "metadata": {
        "id": "Df1ZhHR97Lmi"
      },
      "source": [
        "regex.sub('BEAR', line)"
      ],
      "execution_count": null,
      "outputs": []
    },
    {
      "cell_type": "markdown",
      "metadata": {
        "id": "vAj0YV25vro6"
      },
      "source": [
        "The following is a table of the repetition markers available for use in regular expressions:\n",
        "\n",
        "| Character | Description | Example |\n",
        "|-----------|-------------|---------|\n",
        "| ``?`` | Match zero or one repetitions of preceding  | ``\"ab?\"`` matches ``\"a\"`` or ``\"ab\"`` |\n",
        "| ``*`` | Match zero or more repetitions of preceding | ``\"ab*\"`` matches ``\"a\"``, ``\"ab\"``, ``\"abb\"``, ``\"abbb\"``... |\n",
        "| ``+`` | Match one or more repetitions of preceding  | ``\"ab+\"`` matches ``\"ab\"``, ``\"abb\"``, ``\"abbb\"``... but not ``\"a\"`` |\n",
        "| ``.`` | Any character | ``.*`` matches everything | \n",
        "| ``{n}`` | Match ``n`` repetitions of preeeding | ``\"ab{2}\"`` matches ``\"abb\"`` |\n",
        "| ``{m,n}`` | Match between ``m`` and ``n`` repetitions of preceding | ``\"ab{2,3}\"`` matches ``\"abb\"`` or ``\"abbb\"`` |"
      ]
    },
    {
      "cell_type": "code",
      "metadata": {
        "id": "aQrRIY4nu_lv"
      },
      "source": [
        "bool(re.search(r'ab', \"Boabab\"))"
      ],
      "execution_count": null,
      "outputs": []
    },
    {
      "cell_type": "code",
      "metadata": {
        "id": "Jl-dqlZ_vBjX"
      },
      "source": [
        "bool(re.search(r'.*ma.*', \"Ala ma kota\"))"
      ],
      "execution_count": null,
      "outputs": []
    },
    {
      "cell_type": "code",
      "metadata": {
        "id": "MzfXrZA1wGvK"
      },
      "source": [
        "bool(re.search(r'.*(psa|kota).*', \"Ala ma kota\"))"
      ],
      "execution_count": null,
      "outputs": []
    },
    {
      "cell_type": "code",
      "metadata": {
        "id": "QNwLgTchwXfU"
      },
      "source": [
        "bool(re.search(r'.*(psa|kota).*', \"Ala ma psa\"))"
      ],
      "execution_count": null,
      "outputs": []
    },
    {
      "cell_type": "code",
      "metadata": {
        "id": "rEfi1FLzwcHa"
      },
      "source": [
        "bool(re.search(r'.*(psa|kota).*', \"Ala ma chomika\"))"
      ],
      "execution_count": null,
      "outputs": []
    },
    {
      "cell_type": "code",
      "metadata": {
        "id": "FBH8XwJcwf_k"
      },
      "source": [
        "zdanie = \"Ala ma kota.\"\n",
        "wzor = r'.*' #pasuje do każdego zdania\n",
        "zamiennik = \"Ala ma psa.\""
      ],
      "execution_count": null,
      "outputs": []
    },
    {
      "cell_type": "code",
      "metadata": {
        "id": "4_dDCJ1iwy3s"
      },
      "source": [
        "re.sub(wzor, zamiennik, zdanie)"
      ],
      "execution_count": null,
      "outputs": []
    },
    {
      "cell_type": "markdown",
      "source": [
        "**.*** is a very general pattern, usually we prefer to use more precise expression to be sure that it works only with pattern we want."
      ],
      "metadata": {
        "id": "s1iSszVid9BR"
      }
    },
    {
      "cell_type": "markdown",
      "source": [
        "For instance for a sentence with spaces we could use something like:"
      ],
      "metadata": {
        "id": "5bfVsxDbeuDO"
      }
    },
    {
      "cell_type": "code",
      "source": [
        "wzor = r\"[a-żA-Ż .]+\""
      ],
      "metadata": {
        "id": "qZwrCiUme2_j"
      },
      "execution_count": null,
      "outputs": []
    },
    {
      "cell_type": "code",
      "source": [
        "zdanie = \"Ala ma kota.\"\n",
        "zamiennik = \"Ala ma psa.\""
      ],
      "metadata": {
        "id": "cCuxAi84e_SK"
      },
      "execution_count": null,
      "outputs": []
    },
    {
      "cell_type": "code",
      "source": [
        "re.sub(wzor, zamiennik, zdanie)"
      ],
      "metadata": {
        "id": "IiW6ZZuffBrr"
      },
      "execution_count": null,
      "outputs": []
    },
    {
      "cell_type": "markdown",
      "source": [
        "Or we could define that it starts with capital letter and ends with . ? or !"
      ],
      "metadata": {
        "id": "9n6_xVuCfZM8"
      }
    },
    {
      "cell_type": "code",
      "source": [
        "wzor = r\"[A-Ż][a-ż ]+[\\.\\!\\?]\""
      ],
      "metadata": {
        "id": "LPXhe9jYfi_G"
      },
      "execution_count": null,
      "outputs": []
    },
    {
      "cell_type": "code",
      "source": [
        "re.sub(wzor, zamiennik, zdanie)"
      ],
      "metadata": {
        "id": "CtuYDb-Cf4xL"
      },
      "execution_count": null,
      "outputs": []
    },
    {
      "cell_type": "markdown",
      "source": [
        "We can create groups with () and then use it."
      ],
      "metadata": {
        "id": "70eygWggmmYH"
      }
    },
    {
      "cell_type": "code",
      "metadata": {
        "id": "Ouy86Z0txPvr"
      },
      "source": [
        "wzor = r'(.*)kota.'\n",
        "zamiennik = r\"\\1 psa.\""
      ],
      "execution_count": null,
      "outputs": []
    },
    {
      "cell_type": "code",
      "metadata": {
        "id": "nKtdRi9bxhww"
      },
      "source": [
        "re.sub(wzor, zamiennik, zdanie)"
      ],
      "execution_count": null,
      "outputs": []
    },
    {
      "cell_type": "code",
      "metadata": {
        "id": "deshsKUaxipk"
      },
      "source": [
        "wzor = r'(.*)ma(.*)'\n",
        "zamiennik = r\"\\1 posiada \\2\""
      ],
      "execution_count": null,
      "outputs": []
    },
    {
      "cell_type": "code",
      "metadata": {
        "id": "bSc0LkQDx_z6"
      },
      "source": [
        "re.sub(wzor, zamiennik, zdanie)"
      ],
      "execution_count": null,
      "outputs": []
    },
    {
      "cell_type": "markdown",
      "source": [
        "It is useful for extacting information from big files"
      ],
      "metadata": {
        "id": "unqYxX5Vqmxq"
      }
    },
    {
      "cell_type": "code",
      "source": [
        "text_with_phone_numbers = \"\"\"\n",
        "Jan, Kowalski, 123-234-523\n",
        "Maciej, Nowak, 95845321\n",
        "Katarzyna Nowacka 23 423 45 23\n",
        "\"\"\""
      ],
      "metadata": {
        "id": "Y3w0QiWSmwsm"
      },
      "execution_count": null,
      "outputs": []
    },
    {
      "cell_type": "code",
      "source": [
        "simple_num_regex = r\"[0-9][0-9 \\-]+[0-9]\""
      ],
      "metadata": {
        "id": "BKqXUUjgsQDz"
      },
      "execution_count": null,
      "outputs": []
    },
    {
      "cell_type": "code",
      "source": [
        "list_of_nums = re.findall(simple_num_regex, text_with_phone_numbers)"
      ],
      "metadata": {
        "id": "-ivywYIsq-Rb"
      },
      "execution_count": null,
      "outputs": []
    },
    {
      "cell_type": "code",
      "source": [
        "list_of_nums"
      ],
      "metadata": {
        "id": "1nNwXz75scjU"
      },
      "execution_count": null,
      "outputs": []
    },
    {
      "cell_type": "code",
      "source": [
        "surname_num_regex = r\"([A-Z][a-z]+)[ ,]+([0-9][0-9 \\-]+[0-9])\""
      ],
      "metadata": {
        "id": "CQlBYlNZt84b"
      },
      "execution_count": null,
      "outputs": []
    },
    {
      "cell_type": "code",
      "source": [
        "tuples_with_surmanes_nums = re.findall(surname_num_regex, text_with_phone_numbers)"
      ],
      "metadata": {
        "id": "MgSw0vdQuWfj"
      },
      "execution_count": null,
      "outputs": []
    },
    {
      "cell_type": "code",
      "source": [
        "tuples_with_surmanes_nums"
      ],
      "metadata": {
        "id": "UAG1Gu8wud_j"
      },
      "execution_count": null,
      "outputs": []
    },
    {
      "cell_type": "code",
      "source": [
        "for item in tuples_with_surmanes_nums:\n",
        "  print(f\"{item[0]} has number {re.sub('[- ]', '', item[1])}\")"
      ],
      "metadata": {
        "id": "kUF2FDwNvanu"
      },
      "execution_count": null,
      "outputs": []
    },
    {
      "cell_type": "markdown",
      "source": [
        "### Python API library"
      ],
      "metadata": {
        "id": "FFfoPbUfuc2A"
      }
    },
    {
      "cell_type": "markdown",
      "source": [
        "We can easily work with text downloaded from web in many different ways, e.g.:\n",
        "\n",
        "* prepared library\n",
        "* scrapping\n",
        "* REST API (we will deal with then some other time)"
      ],
      "metadata": {
        "id": "kfRvXHQtXzEd"
      }
    },
    {
      "cell_type": "markdown",
      "source": [
        "For library we need to install it:\n"
      ],
      "metadata": {
        "id": "pVkhBxv5wl6C"
      }
    },
    {
      "cell_type": "code",
      "source": [
        "!pip install wikipedia"
      ],
      "metadata": {
        "id": "HQ-pzawKx8HB"
      },
      "execution_count": null,
      "outputs": []
    },
    {
      "cell_type": "code",
      "source": [
        "import wikipedia\n"
      ],
      "metadata": {
        "id": "c6n-iTn6yGYA"
      },
      "execution_count": null,
      "outputs": []
    },
    {
      "cell_type": "markdown",
      "source": [
        "Here is [nice description](https://towardsdatascience.com/wikipedia-api-for-python-241cfae09f1c) of this library.\n",
        "\n",
        "Let's try to find something:"
      ],
      "metadata": {
        "id": "VZsrsSlVysgw"
      }
    },
    {
      "cell_type": "code",
      "source": [
        "wikipedia.set_lang(\"pl\")\n",
        "person = wikipedia.page(\"Józef Piłsudski\")\n",
        "print(person.content[:1000])\n"
      ],
      "metadata": {
        "id": "KyVbDMpGyrtC"
      },
      "execution_count": null,
      "outputs": []
    },
    {
      "cell_type": "markdown",
      "source": [
        "We want to find the most important years in his life:"
      ],
      "metadata": {
        "id": "e0h6DW1q0Aqv"
      }
    },
    {
      "cell_type": "code",
      "source": [
        "year_regex = r\"[0-9]{4}\""
      ],
      "metadata": {
        "id": "CJAgYvLOz-R4"
      },
      "execution_count": null,
      "outputs": []
    },
    {
      "cell_type": "code",
      "source": [
        "years = re.findall(year_regex, person.content)"
      ],
      "metadata": {
        "id": "wJJHyqRjzbjz"
      },
      "execution_count": null,
      "outputs": []
    },
    {
      "cell_type": "code",
      "source": [
        "print(years)"
      ],
      "metadata": {
        "id": "yRqPaniS0XBQ"
      },
      "execution_count": null,
      "outputs": []
    },
    {
      "cell_type": "code",
      "source": [
        "year_occurences = {x:years.count(x) for x in years}\n",
        "years_in_order = sorted(year_occurences.items())\n"
      ],
      "metadata": {
        "id": "_0344z9t0ebU"
      },
      "execution_count": null,
      "outputs": []
    },
    {
      "cell_type": "code",
      "source": [
        "years_in_order[:8]"
      ],
      "metadata": {
        "id": "Iq-jo0-UZsmr"
      },
      "execution_count": null,
      "outputs": []
    },
    {
      "cell_type": "markdown",
      "source": [
        "Let's cut only years, we are interested in:"
      ],
      "metadata": {
        "id": "JXfMHpmU3DZV"
      }
    },
    {
      "cell_type": "code",
      "source": [
        "def check_year(item):\n",
        "    year, count = item\n",
        "    if int(year) < 1936 and int(year) > 1866:\n",
        "          return True  \n",
        "    return False"
      ],
      "metadata": {
        "id": "_chFvE6B0mLJ"
      },
      "execution_count": null,
      "outputs": []
    },
    {
      "cell_type": "code",
      "source": [
        "relevant_years = list(filter(check_year, years_in_order))\n"
      ],
      "metadata": {
        "id": "yvbFteze3b8N"
      },
      "execution_count": null,
      "outputs": []
    },
    {
      "cell_type": "markdown",
      "source": [
        "In the end we can plot it:"
      ],
      "metadata": {
        "id": "HR6Bj3e55Lzu"
      }
    },
    {
      "cell_type": "code",
      "source": [
        "import pandas as pd\n",
        "import seaborn as sns\n",
        "import matplotlib.pyplot as plt\n",
        "import matplotlib.ticker as ticker\n",
        "\n",
        "years_df = pd.DataFrame(relevant_years, columns =['Year', 'Occurences'])\n",
        "sns.set(rc={'figure.figsize':(20,16)})\n",
        "ax = plt.gca()\n",
        "ax.xaxis.set_major_locator(ticker.MultipleLocator(base=5))\n",
        "sns.lineplot(data=years_df, x=\"Year\", y=\"Occurences\")"
      ],
      "metadata": {
        "id": "8feuvG9T35I8"
      },
      "execution_count": null,
      "outputs": []
    },
    {
      "cell_type": "markdown",
      "source": [
        "### Python Web Scrapping\n",
        "\n",
        "Sometimes there are websites that make text directly available for us (e.g. books).\n",
        "\n",
        "If we want do download polish book we can do it as follows"
      ],
      "metadata": {
        "id": "gsgSjBYneVDX"
      }
    },
    {
      "cell_type": "code",
      "source": [
        "!wget https://wolnelektury.pl/media/book/txt/lalka-tom-pierwszy.txt"
      ],
      "metadata": {
        "id": "lOQGoLzOeoNK"
      },
      "execution_count": null,
      "outputs": []
    },
    {
      "cell_type": "markdown",
      "source": [
        "No we have txt file (see on the side) and we just need to write this:"
      ],
      "metadata": {
        "id": "DniN0QsCfGby"
      }
    },
    {
      "cell_type": "code",
      "source": [
        "with open('lalka-tom-pierwszy.txt', 'r') as book:\n",
        "    lalka = book.read()\n",
        "\n",
        "print(lalka[:300])"
      ],
      "metadata": {
        "id": "hJx9nrZAfAba"
      },
      "execution_count": null,
      "outputs": []
    },
    {
      "cell_type": "markdown",
      "source": [
        "### Excercises\n",
        "\n",
        "* choose interesting period (e.g. Romanticism in english wikipedia) - long article and pick some important names (e.g. Byron, Mickiewicz, Goethe). Using regex (to find all variations of names) find how many times they are mentioned.\n",
        "\n",
        "and/or\n",
        "\n",
        "* do the same thing with book and heroes of a story. If book has multiple parts (like \"Lalka\") you can count occurences for different parts.\n",
        "\n",
        "\n",
        "\n"
      ],
      "metadata": {
        "id": "ZQNz-r6n_ARx"
      }
    },
    {
      "cell_type": "code",
      "source": [],
      "metadata": {
        "id": "tBOHKLMG5-n_"
      },
      "execution_count": null,
      "outputs": []
    }
  ]
}